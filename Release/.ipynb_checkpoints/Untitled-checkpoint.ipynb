{
 "cells": [
  {
   "cell_type": "code",
   "execution_count": 1,
   "metadata": {},
   "outputs": [],
   "source": [
    "import os"
   ]
  },
  {
   "cell_type": "code",
   "execution_count": 11,
   "metadata": {},
   "outputs": [],
   "source": [
    "stream = os.popen('./blackjack 5 10 1')\n",
    "output = stream.read()\n",
    "output\n",
    "stream.close()"
   ]
  },
  {
   "cell_type": "code",
   "execution_count": 23,
   "metadata": {},
   "outputs": [],
   "source": [
    "def getnextmove(mycards, dcard):\n",
    "    if len(mycards) < 2:\n",
    "        print(\"need 2 cards for player\")\n",
    "        return 0\n",
    "    dcardlist = ['./blackjack', str(dcard)]\n",
    "    mycards = [str(i) for i in mycards]\n",
    "    cmdstring = ' '.join(dcardlist + mycards)\n",
    "    print(cmdstring)\n",
    "    stream = os.popen(cmdstring)\n",
    "    output = stream.read()\n",
    "    print(output)\n",
    "    stream.close()"
   ]
  },
  {
   "cell_type": "code",
   "execution_count": 25,
   "metadata": {},
   "outputs": [
    {
     "name": "stdout",
     "output_type": "stream",
     "text": [
      "./blackjack 7 3 5 7\n",
      "stand-20.8294\n"
     ]
    }
   ],
   "source": [
    "getnextmove([3,5,7], 7)"
   ]
  },
  {
   "cell_type": "code",
   "execution_count": null,
   "metadata": {},
   "outputs": [],
   "source": []
  }
 ],
 "metadata": {
  "kernelspec": {
   "display_name": "Python 3",
   "language": "python",
   "name": "python3"
  },
  "language_info": {
   "codemirror_mode": {
    "name": "ipython",
    "version": 3
   },
   "file_extension": ".py",
   "mimetype": "text/x-python",
   "name": "python",
   "nbconvert_exporter": "python",
   "pygments_lexer": "ipython3",
   "version": "3.7.0"
  }
 },
 "nbformat": 4,
 "nbformat_minor": 2
}
